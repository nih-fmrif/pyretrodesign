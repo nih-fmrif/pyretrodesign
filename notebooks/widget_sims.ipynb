{
 "cells": [
  {
   "cell_type": "code",
   "execution_count": 1,
   "id": "57d8bfa4",
   "metadata": {},
   "outputs": [],
   "source": [
    "from scipy import stats\n",
    "import numpy as np\n",
    "import pandas as pd\n",
    "import seaborn as sns\n",
    "from scipy import stats\n",
    "%matplotlib widget \n",
    "from matplotlib import pyplot as plt\n",
    "from pyretrodesign import pyretrodesign\n",
    "from ipywidgets import interact"
   ]
  },
  {
   "cell_type": "code",
   "execution_count": 2,
   "id": "bc571c22",
   "metadata": {
    "lines_to_next_cell": 0
   },
   "outputs": [
    {
     "data": {
      "application/vnd.jupyter.widget-view+json": {
       "model_id": "6013b40f301e4e4294e0d49403ecbcbf",
       "version_major": 2,
       "version_minor": 0
      },
      "text/plain": [
       "interactive(children=(FloatSlider(value=1.0, description='A', max=5.0, min=0.01, step=0.05), FloatSlider(value…"
      ]
     },
     "metadata": {},
     "output_type": "display_data"
    }
   ],
   "source": [
    "fig_exist = False\n",
    "plt.ioff()\n",
    "fig, axes = plt.subplots(1, 3, figsize=(10,4))\n",
    "fig.canvas.toolbar_visible = False\n",
    "fig.canvas.header_visible = False # Hide the Figure name at the top of the figure\n",
    "\n",
    "power, type_s, exaggeration = pyretrodesign(A=1, s=1, alpha=0.05, df=100, make_plots=True, plims=(-10,10), fig=fig, axes=axes)\n",
    "fig.tight_layout()\n",
    "plt.ion()\n",
    "def update(A=1, s=1, alpha=0.05, df=100):\n",
    "    global fig\n",
    "    global axes\n",
    "    power, type_s, exaggeration = pyretrodesign(A, s, alpha, df=df, make_plots=True, plims=(-10,10), fig=fig, axes=axes)\n",
    "    fig.show()\n",
    "interact(update, A=(0.01, 5, 0.05), s=(0.1, 5, 0.05), alpha = (0.001, 0.5, 0.001), df=(5, 5000, 1));"
   ]
  },
  {
   "cell_type": "code",
   "execution_count": null,
   "id": "2c635833",
   "metadata": {
    "lines_to_next_cell": 2
   },
   "outputs": [],
   "source": []
  }
 ],
 "metadata": {
  "jupytext": {
   "cell_metadata_filter": "-all",
   "formats": "auto:light,ipynb",
   "notebook_metadata_filter": "-all"
  },
  "kernelspec": {
   "display_name": "Python 3 (ipykernel)",
   "language": "python",
   "name": "python3"
  },
  "language_info": {
   "codemirror_mode": {
    "name": "ipython",
    "version": 3
   },
   "file_extension": ".py",
   "mimetype": "text/x-python",
   "name": "python",
   "nbconvert_exporter": "python",
   "pygments_lexer": "ipython3",
   "version": "3.9.13"
  }
 },
 "nbformat": 4,
 "nbformat_minor": 5
}
